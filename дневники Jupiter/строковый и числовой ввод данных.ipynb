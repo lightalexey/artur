{
 "cells": [
  {
   "cell_type": "code",
   "execution_count": 1,
   "id": "5a310121",
   "metadata": {},
   "outputs": [
    {
     "name": "stdout",
     "output_type": "stream",
     "text": [
      "Введи а=3\n",
      "Введи b=5\n",
      "сумма равна 35\n"
     ]
    }
   ],
   "source": [
    "a = input('Введи а=') # вводится строка\n",
    "b = input('Введи b=')\n",
    "summa = a + b\n",
    "print('сумма равна', summa)"
   ]
  },
  {
   "cell_type": "code",
   "execution_count": 2,
   "id": "8e97dab5",
   "metadata": {},
   "outputs": [
    {
     "name": "stdout",
     "output_type": "stream",
     "text": [
      "Введи а=3\n",
      "Введи b=5\n",
      "сумма равна 8\n"
     ]
    }
   ],
   "source": [
    "a = int(input('Введи а=')) # это теперь число\n",
    "b = int(input('Введи b='))\n",
    "summa = a + b\n",
    "print('сумма равна', summa)"
   ]
  },
  {
   "cell_type": "code",
   "execution_count": 3,
   "id": "40d6bd5d",
   "metadata": {},
   "outputs": [
    {
     "name": "stdout",
     "output_type": "stream",
     "text": [
      "Введи а=3\n",
      "Введи b=5\n",
      "сумма равна 8\n"
     ]
    }
   ],
   "source": [
    "a = int(input('Введи а=')) # это теперь число\n",
    "b = int(input('Введи b='))\n",
    "print('сумма равна', a + b)"
   ]
  },
  {
   "cell_type": "code",
   "execution_count": 4,
   "id": "b52a1c1d",
   "metadata": {},
   "outputs": [
    {
     "name": "stdout",
     "output_type": "stream",
     "text": [
      "Введи а=3\n",
      "Введи b=5\n",
      "сумма равна 8\n"
     ]
    }
   ],
   "source": [
    "print('сумма равна', int(input('Введи а=')) + int(input('Введи b=')) )"
   ]
  },
  {
   "cell_type": "code",
   "execution_count": null,
   "id": "bef61e5b",
   "metadata": {},
   "outputs": [],
   "source": []
  }
 ],
 "metadata": {
  "kernelspec": {
   "display_name": "Python 3",
   "language": "python",
   "name": "python3"
  },
  "language_info": {
   "codemirror_mode": {
    "name": "ipython",
    "version": 3
   },
   "file_extension": ".py",
   "mimetype": "text/x-python",
   "name": "python",
   "nbconvert_exporter": "python",
   "pygments_lexer": "ipython3",
   "version": "3.8.8"
  }
 },
 "nbformat": 4,
 "nbformat_minor": 5
}
