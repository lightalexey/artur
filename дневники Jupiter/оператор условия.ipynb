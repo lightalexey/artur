{
 "cells": [
  {
   "cell_type": "code",
   "execution_count": 1,
   "id": "085404b8",
   "metadata": {},
   "outputs": [
    {
     "name": "stdout",
     "output_type": "stream",
     "text": [
      "Введи а=3\n",
      "Введи b=5\n",
      "a меньше b\n"
     ]
    }
   ],
   "source": [
    "a = int(input('Введи а='))\n",
    "b = int(input('Введи b='))\n",
    "if a > b:\n",
    "    print('a>b')\n",
    "else:\n",
    "    print('a меньше b')\n",
    "    "
   ]
  },
  {
   "cell_type": "code",
   "execution_count": 3,
   "id": "da64f265",
   "metadata": {
    "scrolled": true
   },
   "outputs": [
    {
     "ename": "IndentationError",
     "evalue": "unindent does not match any outer indentation level (<tokenize>, line 5)",
     "output_type": "error",
     "traceback": [
      "\u001b[1;36m  File \u001b[1;32m\"<tokenize>\"\u001b[1;36m, line \u001b[1;32m5\u001b[0m\n\u001b[1;33m    else:\u001b[0m\n\u001b[1;37m    ^\u001b[0m\n\u001b[1;31mIndentationError\u001b[0m\u001b[1;31m:\u001b[0m unindent does not match any outer indentation level\n"
     ]
    }
   ],
   "source": [
    "a = int(input('Введи а='))\n",
    "b = int(input('Введи b='))\n",
    "if a > b:\n",
    "    print('a>b')\n",
    " else:\n",
    "    print('a меньше b')"
   ]
  },
  {
   "cell_type": "code",
   "execution_count": 4,
   "id": "71d6fc43",
   "metadata": {},
   "outputs": [
    {
     "name": "stdout",
     "output_type": "stream",
     "text": [
      "Введи а=5\n",
      "Введи b=5\n",
      "a меньше b\n"
     ]
    }
   ],
   "source": [
    "a = int(input('Введи а='))\n",
    "b = int(input('Введи b='))\n",
    "if a > b:\n",
    "    print('a>b')\n",
    "else:\n",
    "    print('a меньше b')"
   ]
  },
  {
   "cell_type": "code",
   "execution_count": 5,
   "id": "226c3c89",
   "metadata": {},
   "outputs": [
    {
     "name": "stdout",
     "output_type": "stream",
     "text": [
      "Введи а=5\n",
      "Введи b=5\n",
      "числа равны\n"
     ]
    }
   ],
   "source": [
    "a = int(input('Введи а='))  # int str float bool\n",
    "b = int(input('Введи b='))\n",
    "if a > b:\n",
    "    print('a>b')\n",
    "else:\n",
    "    if a < b:   # elif\n",
    "        print('a меньше b')\n",
    "    else:\n",
    "        print('числа равны')\n",
    "        "
   ]
  }
 ],
 "metadata": {
  "kernelspec": {
   "display_name": "Python 3",
   "language": "python",
   "name": "python3"
  },
  "language_info": {
   "codemirror_mode": {
    "name": "ipython",
    "version": 3
   },
   "file_extension": ".py",
   "mimetype": "text/x-python",
   "name": "python",
   "nbconvert_exporter": "python",
   "pygments_lexer": "ipython3",
   "version": "3.8.8"
  }
 },
 "nbformat": 4,
 "nbformat_minor": 5
}
